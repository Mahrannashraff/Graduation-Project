{
  "nbformat": 4,
  "nbformat_minor": 0,
  "metadata": {
    "colab": {
      "provenance": []
    },
    "kernelspec": {
      "name": "python3",
      "display_name": "Python 3"
    },
    "language_info": {
      "name": "python"
    }
  },
  "cells": [
    {
      "cell_type": "code",
      "execution_count": null,
      "metadata": {
        "id": "-zjYm0UH6D-a",
        "colab": {
          "base_uri": "https://localhost:8080/"
        },
        "outputId": "cad7ec3c-f319-48df-91b8-80b8dae3de7a"
      },
      "outputs": [
        {
          "output_type": "stream",
          "name": "stdout",
          "text": [
            "\u001b[2K     \u001b[90m━━━━━━━━━━━━━━━━━━━━━━━━━━━━━━━━━━━━━━━━\u001b[0m \u001b[32m7.2/7.2 MB\u001b[0m \u001b[31m48.9 MB/s\u001b[0m eta \u001b[36m0:00:00\u001b[0m\n",
            "\u001b[2K     \u001b[90m━━━━━━━━━━━━━━━━━━━━━━━━━━━━━━━━━━━━━━\u001b[0m \u001b[32m474.6/474.6 kB\u001b[0m \u001b[31m36.6 MB/s\u001b[0m eta \u001b[36m0:00:00\u001b[0m\n",
            "\u001b[2K     \u001b[90m━━━━━━━━━━━━━━━━━━━━━━━━━━━━━━━━━━━━━━\u001b[0m \u001b[32m118.9/118.9 kB\u001b[0m \u001b[31m10.2 MB/s\u001b[0m eta \u001b[36m0:00:00\u001b[0m\n",
            "\u001b[?25h  Preparing metadata (setup.py) ... \u001b[?25l\u001b[?25hdone\n",
            "\u001b[2K     \u001b[90m━━━━━━━━━━━━━━━━━━━━━━━━━━━━━━━━━━━━━━━━\u001b[0m \u001b[32m66.4/66.4 kB\u001b[0m \u001b[31m6.5 MB/s\u001b[0m eta \u001b[36m0:00:00\u001b[0m\n",
            "\u001b[2K     \u001b[90m━━━━━━━━━━━━━━━━━━━━━━━━━━━━━━━━━━━━━━\u001b[0m \u001b[32m236.8/236.8 kB\u001b[0m \u001b[31m21.3 MB/s\u001b[0m eta \u001b[36m0:00:00\u001b[0m\n",
            "\u001b[2K     \u001b[90m━━━━━━━━━━━━━━━━━━━━━━━━━━━━━━━━━━━━━━━━\u001b[0m \u001b[32m7.8/7.8 MB\u001b[0m \u001b[31m96.8 MB/s\u001b[0m eta \u001b[36m0:00:00\u001b[0m\n",
            "\u001b[2K     \u001b[90m━━━━━━━━━━━━━━━━━━━━━━━━━━━━━━━━━━━━━━━━\u001b[0m \u001b[32m1.3/1.3 MB\u001b[0m \u001b[31m56.9 MB/s\u001b[0m eta \u001b[36m0:00:00\u001b[0m\n",
            "\u001b[2K     \u001b[90m━━━━━━━━━━━━━━━━━━━━━━━━━━━━━━━━━━━━━━━━\u001b[0m \u001b[32m1.3/1.3 MB\u001b[0m \u001b[31m50.5 MB/s\u001b[0m eta \u001b[36m0:00:00\u001b[0m\n",
            "\u001b[2K     \u001b[90m━━━━━━━━━━━━━━━━━━━━━━━━━━━━━━━━━━━━━━━\u001b[0m \u001b[32m110.5/110.5 kB\u001b[0m \u001b[31m9.1 MB/s\u001b[0m eta \u001b[36m0:00:00\u001b[0m\n",
            "\u001b[2K     \u001b[90m━━━━━━━━━━━━━━━━━━━━━━━━━━━━━━━━━━━━━━\u001b[0m \u001b[32m212.5/212.5 kB\u001b[0m \u001b[31m16.4 MB/s\u001b[0m eta \u001b[36m0:00:00\u001b[0m\n",
            "\u001b[2K     \u001b[90m━━━━━━━━━━━━━━━━━━━━━━━━━━━━━━━━━━━━━━\u001b[0m \u001b[32m134.3/134.3 kB\u001b[0m \u001b[31m12.7 MB/s\u001b[0m eta \u001b[36m0:00:00\u001b[0m\n",
            "\u001b[2K     \u001b[90m━━━━━━━━━━━━━━━━━━━━━━━━━━━━━━━━━━━━━━━━\u001b[0m \u001b[32m1.0/1.0 MB\u001b[0m \u001b[31m48.6 MB/s\u001b[0m eta \u001b[36m0:00:00\u001b[0m\n",
            "\u001b[2K     \u001b[90m━━━━━━━━━━━━━━━━━━━━━━━━━━━━━━━━━━━━━━━━\u001b[0m \u001b[32m2.1/2.1 MB\u001b[0m \u001b[31m54.9 MB/s\u001b[0m eta \u001b[36m0:00:00\u001b[0m\n",
            "\u001b[2K     \u001b[90m━━━━━━━━━━━━━━━━━━━━━━━━━━━━━━━━━━━━━━\u001b[0m \u001b[32m399.3/399.3 kB\u001b[0m \u001b[31m33.4 MB/s\u001b[0m eta \u001b[36m0:00:00\u001b[0m\n",
            "\u001b[2K     \u001b[90m━━━━━━━━━━━━━━━━━━━━━━━━━━━━━━━━━━━━━━\u001b[0m \u001b[32m138.8/138.8 kB\u001b[0m \u001b[31m14.3 MB/s\u001b[0m eta \u001b[36m0:00:00\u001b[0m\n",
            "\u001b[2K     \u001b[90m━━━━━━━━━━━━━━━━━━━━━━━━━━━━━━━━━━━━━━━━\u001b[0m \u001b[32m49.8/49.8 kB\u001b[0m \u001b[31m5.3 MB/s\u001b[0m eta \u001b[36m0:00:00\u001b[0m\n",
            "\u001b[2K     \u001b[90m━━━━━━━━━━━━━━━━━━━━━━━━━━━━━━━━━━━━━━━━\u001b[0m \u001b[32m2.7/2.7 MB\u001b[0m \u001b[31m81.7 MB/s\u001b[0m eta \u001b[36m0:00:00\u001b[0m\n",
            "\u001b[2K     \u001b[90m━━━━━━━━━━━━━━━━━━━━━━━━━━━━━━━━━━━━━━━━\u001b[0m \u001b[32m93.1/93.1 kB\u001b[0m \u001b[31m9.4 MB/s\u001b[0m eta \u001b[36m0:00:00\u001b[0m\n",
            "\u001b[2K     \u001b[90m━━━━━━━━━━━━━━━━━━━━━━━━━━━━━━━━━━━━━━\u001b[0m \u001b[32m114.5/114.5 kB\u001b[0m \u001b[31m10.7 MB/s\u001b[0m eta \u001b[36m0:00:00\u001b[0m\n",
            "\u001b[2K     \u001b[90m━━━━━━━━━━━━━━━━━━━━━━━━━━━━━━━━━━━━━━\u001b[0m \u001b[32m268.8/268.8 kB\u001b[0m \u001b[31m20.5 MB/s\u001b[0m eta \u001b[36m0:00:00\u001b[0m\n",
            "\u001b[2K     \u001b[90m━━━━━━━━━━━━━━━━━━━━━━━━━━━━━━━━━━━━━━\u001b[0m \u001b[32m149.6/149.6 kB\u001b[0m \u001b[31m13.1 MB/s\u001b[0m eta \u001b[36m0:00:00\u001b[0m\n",
            "\u001b[?25h  Building wheel for rouge_score (setup.py) ... \u001b[?25l\u001b[?25hdone\n",
            "Looking in indexes: https://pypi.org/simple, https://us-python.pkg.dev/colab-wheels/public/simple/\n",
            "Collecting rouge\n",
            "  Downloading rouge-1.0.1-py3-none-any.whl (13 kB)\n",
            "Requirement already satisfied: six in /usr/local/lib/python3.10/dist-packages (from rouge) (1.16.0)\n",
            "Installing collected packages: rouge\n",
            "Successfully installed rouge-1.0.1\n",
            "Looking in indexes: https://pypi.org/simple, https://us-python.pkg.dev/colab-wheels/public/simple/\n",
            "Requirement already satisfied: rouge-score in /usr/local/lib/python3.10/dist-packages (0.1.2)\n",
            "Requirement already satisfied: absl-py in /usr/local/lib/python3.10/dist-packages (from rouge-score) (1.4.0)\n",
            "Requirement already satisfied: nltk in /usr/local/lib/python3.10/dist-packages (from rouge-score) (3.8.1)\n",
            "Requirement already satisfied: numpy in /usr/local/lib/python3.10/dist-packages (from rouge-score) (1.22.4)\n",
            "Requirement already satisfied: six>=1.14.0 in /usr/local/lib/python3.10/dist-packages (from rouge-score) (1.16.0)\n",
            "Requirement already satisfied: click in /usr/local/lib/python3.10/dist-packages (from nltk->rouge-score) (8.1.3)\n",
            "Requirement already satisfied: joblib in /usr/local/lib/python3.10/dist-packages (from nltk->rouge-score) (1.2.0)\n",
            "Requirement already satisfied: regex>=2021.8.3 in /usr/local/lib/python3.10/dist-packages (from nltk->rouge-score) (2022.10.31)\n",
            "Requirement already satisfied: tqdm in /usr/local/lib/python3.10/dist-packages (from nltk->rouge-score) (4.65.0)\n"
          ]
        }
      ],
      "source": [
        "  !pip install transformers[sentencepiece] datasets sacrebleu rouge_score py7zr xgboost -q\n",
        "  !pip install rouge\n",
        "  !pip install --upgrade rouge-score\n",
        "\n",
        "  from transformers import BartForConditionalGeneration, T5ForConditionalGeneration\n",
        "  from transformers import AutoTokenizer, AutoModelForSeq2SeqLM\n",
        "  import pandas as pd\n",
        "  import numpy as np\n",
        "  import torch\n",
        "  from sklearn.metrics import mean_squared_error\n",
        "  from rouge_score import rouge_scorer\n",
        "  from transformers import PegasusForConditionalGeneration, AutoTokenizer\n",
        "  from transformers import AutoTokenizer, AutoModelForSeq2SeqLM\n",
        "  from rouge import Rouge\n",
        "  from datasets import load_dataset\n",
        "  from google.colab import drive\n",
        "  import nltk\n",
        "  import xgboost as xgb"
      ]
    },
    {
      "cell_type": "code",
      "source": [
        "# Initialize the Bart tokenizer and model\n",
        "bart_tokenizer = AutoTokenizer.from_pretrained('facebook/bart-large-cnn')\n",
        "\n",
        "# Initialize the pegasus tokenizer and model\n",
        "pegasus_tokenizer = AutoTokenizer.from_pretrained(\"google/pegasus-cnn_dailymail\")\n",
        "\n",
        "# Initialize the pegasus tokenizer and model\n",
        "T5_tokenizer = AutoTokenizer.from_pretrained(\"t5-large\")"
      ],
      "metadata": {
        "id": "HsZkFip86Pm3"
      },
      "execution_count": null,
      "outputs": []
    },
    {
      "cell_type": "code",
      "source": [
        "drive.mount('/content/drive')"
      ],
      "metadata": {
        "colab": {
          "base_uri": "https://localhost:8080/"
        },
        "id": "Ff6GE8qc6PpL",
        "outputId": "8d3a1b65-25cb-4b2f-ddd6-c68f7f5184ab"
      },
      "execution_count": null,
      "outputs": [
        {
          "output_type": "stream",
          "name": "stdout",
          "text": [
            "Mounted at /content/drive\n"
          ]
        }
      ]
    },
    {
      "cell_type": "code",
      "source": [
        "\n",
        "df_bart_train= pd.read_csv('/content/drive/MyDrive/GP data/Bart_Train_Summaries(0-11490).csv')\n",
        "df_pegasus_train=pd.read_csv('/content/drive/MyDrive/GP data/Pegasus_Summaries_Train(0-11490).csv')\n",
        "df_t5_train=pd.read_csv('/content/drive/MyDrive/GP data/T5_TRAIN_SUMMARIES 0-11490.csv')\n",
        "df_bart_test=pd.read_csv('/content/drive/MyDrive/GP data/Bart_Summaries_Test_[0-11490] (1).csv')\n",
        "df_pegasus_test=pd.read_csv('/content/drive/MyDrive/GP data/Pegasus_Test_Summaries_0-11491.csv')\n",
        "df_t5_test=pd.read_csv('/content/drive/MyDrive/GP data/T5_SUMMARIES_[0-11490].csv', encoding='ISO-8859-1')"
      ],
      "metadata": {
        "id": "21b74kvlIqzU"
      },
      "execution_count": null,
      "outputs": []
    },
    {
      "cell_type": "code",
      "source": [
        "import nltk\n",
        "import string\n",
        "\n",
        "# download stopwords if not already downloaded\n",
        "nltk.download('stopwords')\n",
        "nltk.download('punkt')\n",
        "\n",
        "# define function to clean text\n",
        "def clean_text(text):\n",
        "    # remove punctuation\n",
        "    text = text.translate(str.maketrans('', '', string.punctuation+ '.'))\n",
        "    # convert to lowercase\n",
        "    text = text.lower()\n",
        "    # tokenize text into words\n",
        "    words = nltk.word_tokenize(text)\n",
        "    # remove stopwords\n",
        "    stopwords = nltk.corpus.stopwords.words('english')\n",
        "    words = [word for word in words if word not in stopwords]\n",
        "    # join words back into a string\n",
        "    text = ' '.join(words)\n",
        "    return text"
      ],
      "metadata": {
        "colab": {
          "base_uri": "https://localhost:8080/"
        },
        "id": "tiqJjJX4TEYi",
        "outputId": "4571d479-51db-48ad-c482-d6841e91db6b"
      },
      "execution_count": null,
      "outputs": [
        {
          "output_type": "stream",
          "name": "stderr",
          "text": [
            "[nltk_data] Downloading package stopwords to /root/nltk_data...\n",
            "[nltk_data]   Package stopwords is already up-to-date!\n",
            "[nltk_data] Downloading package punkt to /root/nltk_data...\n",
            "[nltk_data]   Unzipping tokenizers/punkt.zip.\n"
          ]
        }
      ]
    },
    {
      "cell_type": "code",
      "source": [
        "# apply cleaning function to summary column\n",
        "df_bart_train['summary'] = df_bart_train['summary'].apply(clean_text)\n",
        "\n",
        "# apply cleaning function to highlights column\n",
        "df_bart_train['highlights'] = df_bart_train['highlights'].apply(clean_text)"
      ],
      "metadata": {
        "id": "scYnC5dMS0hY"
      },
      "execution_count": null,
      "outputs": []
    },
    {
      "cell_type": "code",
      "source": [
        "# apply cleaning function to summary column\n",
        "df_pegasus_train['summary'] = df_pegasus_train['summary'].apply(clean_text)\n",
        "\n",
        "# apply cleaning function to highlights column\n",
        "df_pegasus_train['highlights'] = df_pegasus_train['highlights'].apply(clean_text)"
      ],
      "metadata": {
        "id": "mVGMH_LYTnaL"
      },
      "execution_count": null,
      "outputs": []
    },
    {
      "cell_type": "code",
      "source": [
        "# apply cleaning function to summary column\n",
        "df_bart_test['summary'] = df_bart_test['summary'].apply(clean_text)\n",
        "\n",
        "# apply cleaning function to highlights column\n",
        "df_bart_test['highlights'] = df_bart_test['highlights'].apply(clean_text)"
      ],
      "metadata": {
        "id": "hgafKpvLT6Sb"
      },
      "execution_count": null,
      "outputs": []
    },
    {
      "cell_type": "code",
      "source": [
        "# apply cleaning function to summary column\n",
        "df_pegasus_test['summary'] = df_pegasus_test['summary'].apply(clean_text)\n",
        "\n",
        "# apply cleaning function to highlights column\n",
        "df_pegasus_test['highlights'] = df_pegasus_test['highlights'].apply(clean_text)"
      ],
      "metadata": {
        "id": "R3SqlqaqUEvK"
      },
      "execution_count": null,
      "outputs": []
    },
    {
      "cell_type": "code",
      "source": [
        "# apply cleaning function to summary column\n",
        "df_t5_test['summary'] = df_t5_test['summary'].apply(clean_text)\n",
        "\n",
        "# apply cleaning function to highlights column\n",
        "df_t5_test['highlights'] = df_t5_test['highlights'].apply(clean_text)"
      ],
      "metadata": {
        "id": "qvqq2jd4UXj2"
      },
      "execution_count": null,
      "outputs": []
    },
    {
      "cell_type": "code",
      "source": [
        "x_t5_train = []\n",
        "for i, summary in df_t5_train['summary'].items():\n",
        "    if isinstance(summary, str):\n",
        "        encoded_summary = T5_tokenizer.encode(summary, truncation=True, max_length=1024, padding='max_length', return_tensors='pt')\n",
        "        x_t5_train.append((i, encoded_summary.numpy().squeeze()))\n",
        "    else:\n",
        "        print(f\"Summary at index {i} is not a string: {summary}\")"
      ],
      "metadata": {
        "id": "1ilhVIhwE5Ob"
      },
      "execution_count": null,
      "outputs": []
    },
    {
      "cell_type": "code",
      "source": [
        "x_bart_train = []\n",
        "for i, summary in df_bart_train['summary'].items():\n",
        "    encoded_summary=bart_tokenizer.encode(summary, truncation=True, max_length=1024, padding='max_length', return_tensors='pt')\n",
        "    x_bart_train.append((i, encoded_summary.numpy().squeeze()))"
      ],
      "metadata": {
        "id": "oNNC1qQ46P9E"
      },
      "execution_count": null,
      "outputs": []
    },
    {
      "cell_type": "code",
      "source": [
        "x_pegasus_train = []\n",
        "for i, summary in df_pegasus_train['summary'][0:10].items():\n",
        "    encoded_summary=bart_tokenizer.encode(summary, truncation=True, max_length=1024, padding='max_length', return_tensors='pt')\n",
        "    x_pegasus_train.append((i, encoded_summary.numpy().squeeze()))"
      ],
      "metadata": {
        "id": "Uf7wRuCv6P_t"
      },
      "execution_count": null,
      "outputs": []
    },
    {
      "cell_type": "code",
      "source": [
        "y_train = []\n",
        "for i, summary in df_bart_train['highlights'].items():\n",
        "    encoded_summary = bart_tokenizer.encode(summary, truncation=True, max_length=1024, padding='max_length', return_tensors='pt')\n",
        "    y_train.append((i, encoded_summary.numpy().squeeze()))"
      ],
      "metadata": {
        "id": "p0gN0Sqq6QCO"
      },
      "execution_count": null,
      "outputs": []
    },
    {
      "cell_type": "code",
      "source": [
        "x_t5_test = []\n",
        "for i, summary in df_t5_test['summary'].items():\n",
        "    encoded_summary =  bart_tokenizer.encode(summary, truncation=True, max_length=1024, padding='max_length', return_tensors='pt')\n",
        "    x_t5_test.append((i, encoded_summary.numpy().squeeze()))"
      ],
      "metadata": {
        "id": "IhCC_h9jAj8S"
      },
      "execution_count": null,
      "outputs": []
    },
    {
      "cell_type": "code",
      "source": [
        "x_bart_test = []\n",
        "for i, summary in df_bart_test['summary'].items():\n",
        "    encoded_summary =  bart_tokenizer.encode(summary, truncation=True, max_length=1024, padding='max_length', return_tensors='pt')\n",
        "    x_bart_test.append((i, encoded_summary.numpy().squeeze()))"
      ],
      "metadata": {
        "id": "2ZN2Wh8W6QE-"
      },
      "execution_count": null,
      "outputs": []
    },
    {
      "cell_type": "code",
      "source": [
        "x_pegasus_test = []\n",
        "for i, summary in df_pegasus_test['summary'].items():\n",
        "    encoded_summary = bart_tokenizer.encode(summary, truncation=True, max_length=1024, padding='max_length', return_tensors='pt')\n",
        "    x_pegasus_test.append((i, encoded_summary.numpy().squeeze()))"
      ],
      "metadata": {
        "id": "wWJwBP7ATbpW"
      },
      "execution_count": null,
      "outputs": []
    },
    {
      "cell_type": "code",
      "source": [
        "y_test = []\n",
        "for i, summary in df_pegasus_test['highlights'].items():\n",
        "    encoded_summary = bart_tokenizer.encode(summary, truncation=True, max_length=1024, padding='max_length', return_tensors='pt')\n",
        "    y_test.append((i, encoded_summary.numpy().squeeze()))"
      ],
      "metadata": {
        "id": "kIsIT5eKTbr5"
      },
      "execution_count": null,
      "outputs": []
    },
    {
      "cell_type": "code",
      "source": [
        "# Convert the input data to numpy arrays\n",
        "x_t5_train = np.array(x_t5_train)\n",
        "x_t5_test = np.array(x_t5_test)\n",
        "x_bart_train = np.array(x_bart_train)\n",
        "y_train = np.array(y_train)\n",
        "x_bart_test = np.array(x_bart_test)\n",
        "y_test = np.array(y_test)\n",
        "x_pegasus_train = np.array(x_pegasus_train)\n",
        "x_pegasus_test = np.array(x_pegasus_test)"
      ],
      "metadata": {
        "id": "oIwvIHGwoN27"
      },
      "execution_count": null,
      "outputs": []
    },
    {
      "cell_type": "code",
      "source": [
        "x_t5_train_indices = np.array([t[0] for t in x_t5_train])\n",
        "x_t5_train_summaries = np.array([t[1] for t in x_t5_train])\n",
        "x_bart_train_indices = np.array([t[0] for t in x_bart_train])\n",
        "x_bart_train_summaries = np.array([t[1] for t in x_bart_train])\n",
        "y_train_indices = np.array([t[0] for t in y_train])\n",
        "y_train_summaries = np.array([t[1] for t in y_train])\n",
        "x_pegasus_train_indices = np.array([t[0] for t in x_pegasus_train])\n",
        "x_pegasus_train_summaries = np.array([t[1] for t in x_pegasus_train])"
      ],
      "metadata": {
        "id": "P7hRNQhCo3_T"
      },
      "execution_count": null,
      "outputs": []
    },
    {
      "cell_type": "code",
      "source": [
        "x_t5_test_indices = np.array([t[0] for t in x_t5_test])\n",
        "x_t5_test_summaries = np.array([t[1] for t in x_t5_test])\n",
        "x_bart_test_indices = np.array([t[0] for t in x_bart_test])\n",
        "x_bart_test_summaries = np.array([t[1] for t in x_bart_test])\n",
        "y_test_indices = np.array([t[0] for t in y_test])\n",
        "y_test_summaries = np.array([t[1] for t in y_test])\n",
        "x_pegasus_test_indices = np.array([t[0] for t in x_pegasus_test])\n",
        "x_pegasus_test_summaries = np.array([t[1] for t in x_pegasus_test])"
      ],
      "metadata": {
        "id": "Cu-tIksNuXsR"
      },
      "execution_count": null,
      "outputs": []
    },
    {
      "cell_type": "code",
      "source": [
        "# Stack the BART and Pegasus summaries\n",
        "predictions_train = np.column_stack((x_bart_train_summaries, x_t5_train_summaries, x_pegasus_train_summaries))\n",
        "predictions_test = np.column_stack((x_bart_test_summaries, x_t5_test_summaries, x_pegasus_test_summaries))"
      ],
      "metadata": {
        "id": "f8VS3OYDJ80A"
      },
      "execution_count": null,
      "outputs": []
    },
    {
      "cell_type": "code",
      "source": [
        "from sklearn.ensemble import RandomForestRegressor\n",
        "from sklearn.tree import DecisionTreeRegressor"
      ],
      "metadata": {
        "id": "yOhw48QmTbym"
      },
      "execution_count": null,
      "outputs": []
    },
    {
      "cell_type": "code",
      "source": [
        "# Train a RandomForestRegressor on BART summaries\n",
        "rf_base = RandomForestRegressor(n_estimators=1)\n",
        "rf_base.fit(predictions_train, y_train_summaries)"
      ],
      "metadata": {
        "colab": {
          "base_uri": "https://localhost:8080/",
          "height": 74
        },
        "id": "xVI5hFTjceRA",
        "outputId": "8bcc1deb-c02e-4e17-b639-fe9b7de9dbc5"
      },
      "execution_count": null,
      "outputs": [
        {
          "output_type": "execute_result",
          "data": {
            "text/plain": [
              "RandomForestRegressor(n_estimators=1)"
            ],
            "text/html": [
              "<style>#sk-container-id-1 {color: black;background-color: white;}#sk-container-id-1 pre{padding: 0;}#sk-container-id-1 div.sk-toggleable {background-color: white;}#sk-container-id-1 label.sk-toggleable__label {cursor: pointer;display: block;width: 100%;margin-bottom: 0;padding: 0.3em;box-sizing: border-box;text-align: center;}#sk-container-id-1 label.sk-toggleable__label-arrow:before {content: \"▸\";float: left;margin-right: 0.25em;color: #696969;}#sk-container-id-1 label.sk-toggleable__label-arrow:hover:before {color: black;}#sk-container-id-1 div.sk-estimator:hover label.sk-toggleable__label-arrow:before {color: black;}#sk-container-id-1 div.sk-toggleable__content {max-height: 0;max-width: 0;overflow: hidden;text-align: left;background-color: #f0f8ff;}#sk-container-id-1 div.sk-toggleable__content pre {margin: 0.2em;color: black;border-radius: 0.25em;background-color: #f0f8ff;}#sk-container-id-1 input.sk-toggleable__control:checked~div.sk-toggleable__content {max-height: 200px;max-width: 100%;overflow: auto;}#sk-container-id-1 input.sk-toggleable__control:checked~label.sk-toggleable__label-arrow:before {content: \"▾\";}#sk-container-id-1 div.sk-estimator input.sk-toggleable__control:checked~label.sk-toggleable__label {background-color: #d4ebff;}#sk-container-id-1 div.sk-label input.sk-toggleable__control:checked~label.sk-toggleable__label {background-color: #d4ebff;}#sk-container-id-1 input.sk-hidden--visually {border: 0;clip: rect(1px 1px 1px 1px);clip: rect(1px, 1px, 1px, 1px);height: 1px;margin: -1px;overflow: hidden;padding: 0;position: absolute;width: 1px;}#sk-container-id-1 div.sk-estimator {font-family: monospace;background-color: #f0f8ff;border: 1px dotted black;border-radius: 0.25em;box-sizing: border-box;margin-bottom: 0.5em;}#sk-container-id-1 div.sk-estimator:hover {background-color: #d4ebff;}#sk-container-id-1 div.sk-parallel-item::after {content: \"\";width: 100%;border-bottom: 1px solid gray;flex-grow: 1;}#sk-container-id-1 div.sk-label:hover label.sk-toggleable__label {background-color: #d4ebff;}#sk-container-id-1 div.sk-serial::before {content: \"\";position: absolute;border-left: 1px solid gray;box-sizing: border-box;top: 0;bottom: 0;left: 50%;z-index: 0;}#sk-container-id-1 div.sk-serial {display: flex;flex-direction: column;align-items: center;background-color: white;padding-right: 0.2em;padding-left: 0.2em;position: relative;}#sk-container-id-1 div.sk-item {position: relative;z-index: 1;}#sk-container-id-1 div.sk-parallel {display: flex;align-items: stretch;justify-content: center;background-color: white;position: relative;}#sk-container-id-1 div.sk-item::before, #sk-container-id-1 div.sk-parallel-item::before {content: \"\";position: absolute;border-left: 1px solid gray;box-sizing: border-box;top: 0;bottom: 0;left: 50%;z-index: -1;}#sk-container-id-1 div.sk-parallel-item {display: flex;flex-direction: column;z-index: 1;position: relative;background-color: white;}#sk-container-id-1 div.sk-parallel-item:first-child::after {align-self: flex-end;width: 50%;}#sk-container-id-1 div.sk-parallel-item:last-child::after {align-self: flex-start;width: 50%;}#sk-container-id-1 div.sk-parallel-item:only-child::after {width: 0;}#sk-container-id-1 div.sk-dashed-wrapped {border: 1px dashed gray;margin: 0 0.4em 0.5em 0.4em;box-sizing: border-box;padding-bottom: 0.4em;background-color: white;}#sk-container-id-1 div.sk-label label {font-family: monospace;font-weight: bold;display: inline-block;line-height: 1.2em;}#sk-container-id-1 div.sk-label-container {text-align: center;}#sk-container-id-1 div.sk-container {/* jupyter's `normalize.less` sets `[hidden] { display: none; }` but bootstrap.min.css set `[hidden] { display: none !important; }` so we also need the `!important` here to be able to override the default hidden behavior on the sphinx rendered scikit-learn.org. See: https://github.com/scikit-learn/scikit-learn/issues/21755 */display: inline-block !important;position: relative;}#sk-container-id-1 div.sk-text-repr-fallback {display: none;}</style><div id=\"sk-container-id-1\" class=\"sk-top-container\"><div class=\"sk-text-repr-fallback\"><pre>RandomForestRegressor(n_estimators=1)</pre><b>In a Jupyter environment, please rerun this cell to show the HTML representation or trust the notebook. <br />On GitHub, the HTML representation is unable to render, please try loading this page with nbviewer.org.</b></div><div class=\"sk-container\" hidden><div class=\"sk-item\"><div class=\"sk-estimator sk-toggleable\"><input class=\"sk-toggleable__control sk-hidden--visually\" id=\"sk-estimator-id-1\" type=\"checkbox\" checked><label for=\"sk-estimator-id-1\" class=\"sk-toggleable__label sk-toggleable__label-arrow\">RandomForestRegressor</label><div class=\"sk-toggleable__content\"><pre>RandomForestRegressor(n_estimators=1)</pre></div></div></div></div></div>"
            ]
          },
          "metadata": {},
          "execution_count": 28
        }
      ]
    },
    {
      "cell_type": "code",
      "source": [
        "from sklearn.neighbors import KNeighborsRegressor\n",
        "from sklearn.neural_network import MLPRegressor\n",
        "from sklearn.linear_model import LinearRegression\n",
        "\n",
        "# Train a KNeighborsRegressor on Pegasus summaries\n",
        "mlp_base = MLPRegressor()\n",
        "mlp_base.fit(predictions_train, y_train_summaries)"
      ],
      "metadata": {
        "colab": {
          "base_uri": "https://localhost:8080/",
          "height": 129
        },
        "id": "tgwNEYl_t0Dp",
        "outputId": "962f8e5a-d5fe-4b4d-cf0b-9ef5b33bde50"
      },
      "execution_count": null,
      "outputs": [
        {
          "output_type": "stream",
          "name": "stderr",
          "text": [
            "/usr/local/lib/python3.10/dist-packages/sklearn/neural_network/_multilayer_perceptron.py:686: ConvergenceWarning: Stochastic Optimizer: Maximum iterations (200) reached and the optimization hasn't converged yet.\n",
            "  warnings.warn(\n"
          ]
        },
        {
          "output_type": "execute_result",
          "data": {
            "text/plain": [
              "MLPRegressor()"
            ],
            "text/html": [
              "<style>#sk-container-id-2 {color: black;background-color: white;}#sk-container-id-2 pre{padding: 0;}#sk-container-id-2 div.sk-toggleable {background-color: white;}#sk-container-id-2 label.sk-toggleable__label {cursor: pointer;display: block;width: 100%;margin-bottom: 0;padding: 0.3em;box-sizing: border-box;text-align: center;}#sk-container-id-2 label.sk-toggleable__label-arrow:before {content: \"▸\";float: left;margin-right: 0.25em;color: #696969;}#sk-container-id-2 label.sk-toggleable__label-arrow:hover:before {color: black;}#sk-container-id-2 div.sk-estimator:hover label.sk-toggleable__label-arrow:before {color: black;}#sk-container-id-2 div.sk-toggleable__content {max-height: 0;max-width: 0;overflow: hidden;text-align: left;background-color: #f0f8ff;}#sk-container-id-2 div.sk-toggleable__content pre {margin: 0.2em;color: black;border-radius: 0.25em;background-color: #f0f8ff;}#sk-container-id-2 input.sk-toggleable__control:checked~div.sk-toggleable__content {max-height: 200px;max-width: 100%;overflow: auto;}#sk-container-id-2 input.sk-toggleable__control:checked~label.sk-toggleable__label-arrow:before {content: \"▾\";}#sk-container-id-2 div.sk-estimator input.sk-toggleable__control:checked~label.sk-toggleable__label {background-color: #d4ebff;}#sk-container-id-2 div.sk-label input.sk-toggleable__control:checked~label.sk-toggleable__label {background-color: #d4ebff;}#sk-container-id-2 input.sk-hidden--visually {border: 0;clip: rect(1px 1px 1px 1px);clip: rect(1px, 1px, 1px, 1px);height: 1px;margin: -1px;overflow: hidden;padding: 0;position: absolute;width: 1px;}#sk-container-id-2 div.sk-estimator {font-family: monospace;background-color: #f0f8ff;border: 1px dotted black;border-radius: 0.25em;box-sizing: border-box;margin-bottom: 0.5em;}#sk-container-id-2 div.sk-estimator:hover {background-color: #d4ebff;}#sk-container-id-2 div.sk-parallel-item::after {content: \"\";width: 100%;border-bottom: 1px solid gray;flex-grow: 1;}#sk-container-id-2 div.sk-label:hover label.sk-toggleable__label {background-color: #d4ebff;}#sk-container-id-2 div.sk-serial::before {content: \"\";position: absolute;border-left: 1px solid gray;box-sizing: border-box;top: 0;bottom: 0;left: 50%;z-index: 0;}#sk-container-id-2 div.sk-serial {display: flex;flex-direction: column;align-items: center;background-color: white;padding-right: 0.2em;padding-left: 0.2em;position: relative;}#sk-container-id-2 div.sk-item {position: relative;z-index: 1;}#sk-container-id-2 div.sk-parallel {display: flex;align-items: stretch;justify-content: center;background-color: white;position: relative;}#sk-container-id-2 div.sk-item::before, #sk-container-id-2 div.sk-parallel-item::before {content: \"\";position: absolute;border-left: 1px solid gray;box-sizing: border-box;top: 0;bottom: 0;left: 50%;z-index: -1;}#sk-container-id-2 div.sk-parallel-item {display: flex;flex-direction: column;z-index: 1;position: relative;background-color: white;}#sk-container-id-2 div.sk-parallel-item:first-child::after {align-self: flex-end;width: 50%;}#sk-container-id-2 div.sk-parallel-item:last-child::after {align-self: flex-start;width: 50%;}#sk-container-id-2 div.sk-parallel-item:only-child::after {width: 0;}#sk-container-id-2 div.sk-dashed-wrapped {border: 1px dashed gray;margin: 0 0.4em 0.5em 0.4em;box-sizing: border-box;padding-bottom: 0.4em;background-color: white;}#sk-container-id-2 div.sk-label label {font-family: monospace;font-weight: bold;display: inline-block;line-height: 1.2em;}#sk-container-id-2 div.sk-label-container {text-align: center;}#sk-container-id-2 div.sk-container {/* jupyter's `normalize.less` sets `[hidden] { display: none; }` but bootstrap.min.css set `[hidden] { display: none !important; }` so we also need the `!important` here to be able to override the default hidden behavior on the sphinx rendered scikit-learn.org. See: https://github.com/scikit-learn/scikit-learn/issues/21755 */display: inline-block !important;position: relative;}#sk-container-id-2 div.sk-text-repr-fallback {display: none;}</style><div id=\"sk-container-id-2\" class=\"sk-top-container\"><div class=\"sk-text-repr-fallback\"><pre>MLPRegressor()</pre><b>In a Jupyter environment, please rerun this cell to show the HTML representation or trust the notebook. <br />On GitHub, the HTML representation is unable to render, please try loading this page with nbviewer.org.</b></div><div class=\"sk-container\" hidden><div class=\"sk-item\"><div class=\"sk-estimator sk-toggleable\"><input class=\"sk-toggleable__control sk-hidden--visually\" id=\"sk-estimator-id-2\" type=\"checkbox\" checked><label for=\"sk-estimator-id-2\" class=\"sk-toggleable__label sk-toggleable__label-arrow\">MLPRegressor</label><div class=\"sk-toggleable__content\"><pre>MLPRegressor()</pre></div></div></div></div></div>"
            ]
          },
          "metadata": {},
          "execution_count": 29
        }
      ]
    },
    {
      "cell_type": "code",
      "source": [
        "rf_preds = rf_base.predict(predictions_test[0:5000]).ravel()"
      ],
      "metadata": {
        "id": "ZbtNTQQ_FJeA"
      },
      "execution_count": null,
      "outputs": []
    },
    {
      "cell_type": "code",
      "source": [
        "mlp_preds = mlp_base.predict(predictions_test[0:5000]).ravel()"
      ],
      "metadata": {
        "id": "XYNUiA2NFQQd"
      },
      "execution_count": null,
      "outputs": []
    },
    {
      "cell_type": "code",
      "source": [
        "# Step 5: Create a new DataFrame to store the predictions\n",
        "predictions = pd.DataFrame({\"rf_preds\": rf_preds, \"mlp_preds\": mlp_preds })"
      ],
      "metadata": {
        "id": "qe0ypHFi99hJ"
      },
      "execution_count": null,
      "outputs": []
    },
    {
      "cell_type": "code",
      "source": [
        "y_test_flat = y_test_summaries[0:5000].ravel()"
      ],
      "metadata": {
        "id": "4PxVzVhmPYBv"
      },
      "execution_count": null,
      "outputs": []
    },
    {
      "cell_type": "code",
      "source": [
        "from sklearn.ensemble import GradientBoostingRegressor\n",
        "import numpy as np\n",
        "\n",
        "# Initialize base estimators\n",
        "estimators = [\n",
        "    ('rf',  RandomForestRegressor()),\n",
        "    ('mlp', MLPRegressor()),\n",
        "]\n",
        "\n",
        "\n",
        "# Initialize meta-model with base estimators\n",
        "meta_model =GradientBoostingRegressor(n_estimators=100)\n",
        "meta_model.fit(predictions, y_test_flat)"
      ],
      "metadata": {
        "colab": {
          "base_uri": "https://localhost:8080/",
          "height": 74
        },
        "id": "-WATdkSHt0NL",
        "outputId": "d6823578-f82d-4992-eec5-e31607d477bf"
      },
      "execution_count": null,
      "outputs": [
        {
          "output_type": "execute_result",
          "data": {
            "text/plain": [
              "GradientBoostingRegressor()"
            ],
            "text/html": [
              "<style>#sk-container-id-3 {color: black;background-color: white;}#sk-container-id-3 pre{padding: 0;}#sk-container-id-3 div.sk-toggleable {background-color: white;}#sk-container-id-3 label.sk-toggleable__label {cursor: pointer;display: block;width: 100%;margin-bottom: 0;padding: 0.3em;box-sizing: border-box;text-align: center;}#sk-container-id-3 label.sk-toggleable__label-arrow:before {content: \"▸\";float: left;margin-right: 0.25em;color: #696969;}#sk-container-id-3 label.sk-toggleable__label-arrow:hover:before {color: black;}#sk-container-id-3 div.sk-estimator:hover label.sk-toggleable__label-arrow:before {color: black;}#sk-container-id-3 div.sk-toggleable__content {max-height: 0;max-width: 0;overflow: hidden;text-align: left;background-color: #f0f8ff;}#sk-container-id-3 div.sk-toggleable__content pre {margin: 0.2em;color: black;border-radius: 0.25em;background-color: #f0f8ff;}#sk-container-id-3 input.sk-toggleable__control:checked~div.sk-toggleable__content {max-height: 200px;max-width: 100%;overflow: auto;}#sk-container-id-3 input.sk-toggleable__control:checked~label.sk-toggleable__label-arrow:before {content: \"▾\";}#sk-container-id-3 div.sk-estimator input.sk-toggleable__control:checked~label.sk-toggleable__label {background-color: #d4ebff;}#sk-container-id-3 div.sk-label input.sk-toggleable__control:checked~label.sk-toggleable__label {background-color: #d4ebff;}#sk-container-id-3 input.sk-hidden--visually {border: 0;clip: rect(1px 1px 1px 1px);clip: rect(1px, 1px, 1px, 1px);height: 1px;margin: -1px;overflow: hidden;padding: 0;position: absolute;width: 1px;}#sk-container-id-3 div.sk-estimator {font-family: monospace;background-color: #f0f8ff;border: 1px dotted black;border-radius: 0.25em;box-sizing: border-box;margin-bottom: 0.5em;}#sk-container-id-3 div.sk-estimator:hover {background-color: #d4ebff;}#sk-container-id-3 div.sk-parallel-item::after {content: \"\";width: 100%;border-bottom: 1px solid gray;flex-grow: 1;}#sk-container-id-3 div.sk-label:hover label.sk-toggleable__label {background-color: #d4ebff;}#sk-container-id-3 div.sk-serial::before {content: \"\";position: absolute;border-left: 1px solid gray;box-sizing: border-box;top: 0;bottom: 0;left: 50%;z-index: 0;}#sk-container-id-3 div.sk-serial {display: flex;flex-direction: column;align-items: center;background-color: white;padding-right: 0.2em;padding-left: 0.2em;position: relative;}#sk-container-id-3 div.sk-item {position: relative;z-index: 1;}#sk-container-id-3 div.sk-parallel {display: flex;align-items: stretch;justify-content: center;background-color: white;position: relative;}#sk-container-id-3 div.sk-item::before, #sk-container-id-3 div.sk-parallel-item::before {content: \"\";position: absolute;border-left: 1px solid gray;box-sizing: border-box;top: 0;bottom: 0;left: 50%;z-index: -1;}#sk-container-id-3 div.sk-parallel-item {display: flex;flex-direction: column;z-index: 1;position: relative;background-color: white;}#sk-container-id-3 div.sk-parallel-item:first-child::after {align-self: flex-end;width: 50%;}#sk-container-id-3 div.sk-parallel-item:last-child::after {align-self: flex-start;width: 50%;}#sk-container-id-3 div.sk-parallel-item:only-child::after {width: 0;}#sk-container-id-3 div.sk-dashed-wrapped {border: 1px dashed gray;margin: 0 0.4em 0.5em 0.4em;box-sizing: border-box;padding-bottom: 0.4em;background-color: white;}#sk-container-id-3 div.sk-label label {font-family: monospace;font-weight: bold;display: inline-block;line-height: 1.2em;}#sk-container-id-3 div.sk-label-container {text-align: center;}#sk-container-id-3 div.sk-container {/* jupyter's `normalize.less` sets `[hidden] { display: none; }` but bootstrap.min.css set `[hidden] { display: none !important; }` so we also need the `!important` here to be able to override the default hidden behavior on the sphinx rendered scikit-learn.org. See: https://github.com/scikit-learn/scikit-learn/issues/21755 */display: inline-block !important;position: relative;}#sk-container-id-3 div.sk-text-repr-fallback {display: none;}</style><div id=\"sk-container-id-3\" class=\"sk-top-container\"><div class=\"sk-text-repr-fallback\"><pre>GradientBoostingRegressor()</pre><b>In a Jupyter environment, please rerun this cell to show the HTML representation or trust the notebook. <br />On GitHub, the HTML representation is unable to render, please try loading this page with nbviewer.org.</b></div><div class=\"sk-container\" hidden><div class=\"sk-item\"><div class=\"sk-estimator sk-toggleable\"><input class=\"sk-toggleable__control sk-hidden--visually\" id=\"sk-estimator-id-3\" type=\"checkbox\" checked><label for=\"sk-estimator-id-3\" class=\"sk-toggleable__label sk-toggleable__label-arrow\">GradientBoostingRegressor</label><div class=\"sk-toggleable__content\"><pre>GradientBoostingRegressor()</pre></div></div></div></div></div>"
            ]
          },
          "metadata": {},
          "execution_count": 36
        }
      ]
    },
    {
      "cell_type": "code",
      "source": [
        "test_rf_preds=rf_base.predict(predictions_test[5000:]).ravel()\n",
        "test_mlp_preds=mlp_base.predict(predictions_test[5000:]).ravel()"
      ],
      "metadata": {
        "id": "wKtGCBRsFs8e"
      },
      "execution_count": null,
      "outputs": []
    },
    {
      "cell_type": "code",
      "source": [
        "# Step 5: Create a new DataFrame to store the predictions\n",
        "test_predictions = pd.DataFrame({\"rf_preds\": test_rf_preds, \"mlp_preds\":test_mlp_preds})"
      ],
      "metadata": {
        "id": "xKZumBiXF0wl"
      },
      "execution_count": null,
      "outputs": []
    },
    {
      "cell_type": "code",
      "source": [
        "ensemble_preds = meta_model.predict(test_predictions)"
      ],
      "metadata": {
        "id": "mqq5fWRit0QF"
      },
      "execution_count": null,
      "outputs": []
    },
    {
      "cell_type": "code",
      "source": [
        "# Inverse transform ensemble_preds\n",
        "ensemble_preds = ensemble_preds.reshape((6489, -1))"
      ],
      "metadata": {
        "id": "rv7gRbSV4g3E"
      },
      "execution_count": null,
      "outputs": []
    },
    {
      "cell_type": "code",
      "source": [
        "# set min and max values for token IDs based on tokenizer vocab size\n",
        "min_value = 0\n",
        "max_value = bart_tokenizer.vocab_size - 1\n",
        "\n",
        "# decode summaries from predicted token IDs\n",
        "ensemble_pred_text = []\n",
        "for i in range(len(ensemble_preds)):\n",
        "    summary_ids = ensemble_preds[i]\n",
        "    # clip token IDs to valid range\n",
        "    summary_ids = np.clip(summary_ids, min_value, max_value)\n",
        "    summary_ids = summary_ids.astype(int)\n",
        "    summary = bart_tokenizer.decode(summary_ids, skip_special_tokens=True, max_length=100)\n",
        "    ensemble_pred_text.append(summary)"
      ],
      "metadata": {
        "id": "rCZonakhvghL"
      },
      "execution_count": null,
      "outputs": []
    },
    {
      "cell_type": "code",
      "source": [
        "y_test_text = []\n",
        "for i in range(len(y_test)):\n",
        "    encoded_summary = y_test[i][1]\n",
        "    decoded_summary = bart_tokenizer.decode(encoded_summary.squeeze(), skip_special_tokens=True, max_length=100)\n",
        "    y_test_text.append( decoded_summary)\n",
        "print(len(y_test_text))"
      ],
      "metadata": {
        "colab": {
          "base_uri": "https://localhost:8080/"
        },
        "id": "XH4Hss1v6UPb",
        "outputId": "07e0a0f8-3cf1-412f-c49d-a3969bf58ab6"
      },
      "execution_count": null,
      "outputs": [
        {
          "output_type": "stream",
          "name": "stdout",
          "text": [
            "10\n"
          ]
        }
      ]
    },
    {
      "cell_type": "code",
      "source": [
        "import sys\n",
        "\n",
        "sys.setrecursionlimit(10000) # set the recursion limit to 10000\n",
        "\n",
        "rouge = Rouge()\n",
        "batch_size = 1000\n",
        "num_batches = (len(ensemble_pred_text) + batch_size - 1) // batch_size # round up to nearest integer\n",
        "\n",
        "scores = []\n",
        "for i in range(num_batches):\n",
        "    start_idx = i * batch_size\n",
        "    end_idx = min((i+1) * batch_size, len(ensemble_pred_text))\n",
        "    batch_pred_text = ensemble_pred_text[start_idx:end_idx]\n",
        "    batch_ref_text = y_test_text[start_idx:end_idx]\n",
        "\n",
        "    batch_scores = []\n",
        "    for j in range(len(batch_pred_text)):\n",
        "        reference = str(batch_ref_text[j])\n",
        "        hypothesis = str(batch_pred_text[j])\n",
        "        if not reference:\n",
        "            score = {'rouge-1': {'f': 0, 'p': 0, 'r': 0}, 'rouge-2': {'f': 0, 'p': 0, 'r': 0}, 'rouge-l': {'f': 0, 'p': 0, 'r': 0}}\n",
        "        else:\n",
        "            score = rouge.get_scores(hypothesis, reference)\n",
        "        batch_scores.append(score)\n",
        "\n",
        "    scores.extend(batch_scores)"
      ],
      "metadata": {
        "id": "WYPIWyMfzSnH"
      },
      "execution_count": null,
      "outputs": []
    },
    {
      "cell_type": "code",
      "source": [
        "# Get the three ROUGE scores for each summary and calculate the average\n",
        "rouge_1_scores = [score[0][\"rouge-1\"][\"f\"] for score in scores]\n",
        "rouge_l_scores = [score[0][\"rouge-l\"][\"f\"] for score in scores]\n",
        "average_rouge_1 = sum(rouge_1_scores) / (len(scores))\n",
        "average_rouge_L = sum(rouge_l_scores) / (len(scores))"
      ],
      "metadata": {
        "id": "0G0oslJkaEke"
      },
      "execution_count": null,
      "outputs": []
    },
    {
      "cell_type": "code",
      "source": [
        "# Save the ROUGE scores to a CSV file\n",
        "rouge_scores_df = pd.DataFrame({\n",
        "    \"rouge-1\": rouge_1_scores,\n",
        "    \"rouge-l\": rouge_l_scores,\n",
        "    \"Average-1\": average_rouge_1,\n",
        "    \"Average-L\": average_rouge_L,\n",
        "})\n",
        "rouge_scores_df.to_csv(\"Bart&T5&Peg_Gradient_Rouge_Scores.csv\", index=False)"
      ],
      "metadata": {
        "id": "YBgi00z6aEnJ"
      },
      "execution_count": null,
      "outputs": []
    },
    {
      "cell_type": "code",
      "source": [],
      "metadata": {
        "id": "IkstfbenyHav"
      },
      "execution_count": null,
      "outputs": []
    },
    {
      "cell_type": "code",
      "source": [],
      "metadata": {
        "id": "bCBfYfmhyHch"
      },
      "execution_count": null,
      "outputs": []
    }
  ]
}