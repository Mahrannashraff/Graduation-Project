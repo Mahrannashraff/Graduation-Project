{
  "metadata": {
    "colab": {
      "provenance": []
    },
    "kernelspec": {
      "name": "python3",
      "display_name": "Python 3",
      "language": "python"
    },
    "language_info": {
      "name": "python",
      "version": "3.10.10",
      "mimetype": "text/x-python",
      "codemirror_mode": {
        "name": "ipython",
        "version": 3
      },
      "pygments_lexer": "ipython3",
      "nbconvert_exporter": "python",
      "file_extension": ".py"
    }
  },
  "nbformat_minor": 0,
  "nbformat": 4,
  "cells": [
    {
      "cell_type": "code",
      "source": [
        "  !pip install transformers[sentencepiece] datasets sacrebleu rouge_score py7zr xgboost -q\n",
        "  !pip install rouge\n",
        "  !pip install --upgrade rouge-score\n",
        "\n",
        "  from transformers import BartForConditionalGeneration, T5ForConditionalGeneration\n",
        "  from transformers import AutoTokenizer, AutoModelForSeq2SeqLM\n",
        "  import pandas as pd\n",
        "  import numpy as np\n",
        "  import torch\n",
        "  from sklearn.metrics import mean_squared_error\n",
        "  from rouge_score import rouge_scorer\n",
        "  from transformers import PegasusForConditionalGeneration, AutoTokenizer\n",
        "  from transformers import AutoTokenizer, AutoModelForSeq2SeqLM\n",
        "  from rouge import Rouge\n",
        "  from google.colab import drive\n",
        "  from datasets import load_dataset\n",
        "  import nltk\n",
        "  import xgboost as xgb"
      ],
      "metadata": {
        "id": "-zjYm0UH6D-a",
        "colab": {
          "base_uri": "https://localhost:8080/"
        },
        "outputId": "e234fd57-1310-4d11-fa90-2416e66a96fd",
        "execution": {
          "iopub.status.busy": "2023-06-09T00:50:16.812516Z",
          "iopub.execute_input": "2023-06-09T00:50:16.812948Z",
          "iopub.status.idle": "2023-06-09T00:50:59.813936Z",
          "shell.execute_reply.started": "2023-06-09T00:50:16.812915Z",
          "shell.execute_reply": "2023-06-09T00:50:59.812219Z"
        },
        "trusted": true
      },
      "execution_count": null,
      "outputs": [
        {
          "output_type": "stream",
          "name": "stdout",
          "text": [
            "Looking in indexes: https://pypi.org/simple, https://us-python.pkg.dev/colab-wheels/public/simple/\n",
            "Requirement already satisfied: rouge in /usr/local/lib/python3.10/dist-packages (1.0.1)\n",
            "Requirement already satisfied: six in /usr/local/lib/python3.10/dist-packages (from rouge) (1.16.0)\n",
            "Looking in indexes: https://pypi.org/simple, https://us-python.pkg.dev/colab-wheels/public/simple/\n",
            "Requirement already satisfied: rouge-score in /usr/local/lib/python3.10/dist-packages (0.1.2)\n",
            "Requirement already satisfied: absl-py in /usr/local/lib/python3.10/dist-packages (from rouge-score) (1.4.0)\n",
            "Requirement already satisfied: nltk in /usr/local/lib/python3.10/dist-packages (from rouge-score) (3.8.1)\n",
            "Requirement already satisfied: numpy in /usr/local/lib/python3.10/dist-packages (from rouge-score) (1.22.4)\n",
            "Requirement already satisfied: six>=1.14.0 in /usr/local/lib/python3.10/dist-packages (from rouge-score) (1.16.0)\n",
            "Requirement already satisfied: click in /usr/local/lib/python3.10/dist-packages (from nltk->rouge-score) (8.1.3)\n",
            "Requirement already satisfied: joblib in /usr/local/lib/python3.10/dist-packages (from nltk->rouge-score) (1.2.0)\n",
            "Requirement already satisfied: regex>=2021.8.3 in /usr/local/lib/python3.10/dist-packages (from nltk->rouge-score) (2022.10.31)\n",
            "Requirement already satisfied: tqdm in /usr/local/lib/python3.10/dist-packages (from nltk->rouge-score) (4.65.0)\n"
          ]
        }
      ]
    },
    {
      "cell_type": "code",
      "source": [
        "drive.mount('/content/drive')"
      ],
      "metadata": {
        "colab": {
          "base_uri": "https://localhost:8080/"
        },
        "id": "xlUTJ4sdzWRB",
        "outputId": "1bbad5db-aaea-4375-cd68-74ab94a0c644"
      },
      "execution_count": null,
      "outputs": [
        {
          "output_type": "stream",
          "name": "stdout",
          "text": [
            "Drive already mounted at /content/drive; to attempt to forcibly remount, call drive.mount(\"/content/drive\", force_remount=True).\n"
          ]
        }
      ]
    },
    {
      "cell_type": "code",
      "source": [
        "# Initialize the pegasus tokenizer and model\n",
        "pegasus_tokenizer = AutoTokenizer.from_pretrained(\"google/pegasus-cnn_dailymail\")\n",
        "\n",
        "# Initialize the pegasus tokenizer and model\n",
        "T5_tokenizer = AutoTokenizer.from_pretrained(\"t5-large\")"
      ],
      "metadata": {
        "id": "HsZkFip86Pm3",
        "execution": {
          "iopub.status.busy": "2023-06-09T00:50:59.816919Z",
          "iopub.execute_input": "2023-06-09T00:50:59.818431Z",
          "iopub.status.idle": "2023-06-09T00:51:02.144699Z",
          "shell.execute_reply.started": "2023-06-09T00:50:59.818383Z",
          "shell.execute_reply": "2023-06-09T00:51:02.143063Z"
        },
        "trusted": true
      },
      "execution_count": null,
      "outputs": []
    },
    {
      "cell_type": "code",
      "source": [
        "\n",
        "df_pegasus_train=pd.read_csv('/content/drive/MyDrive/GP data/Pegasus_Summaries_Train(0-11490).csv')\n",
        "df_t5_train=pd.read_csv('/content/drive/MyDrive/GP data/T5_TRAIN_SUMMARIES 0-11490.csv')\n",
        "df_pegasus_test=pd.read_csv('/content/drive/MyDrive/GP data/Pegasus_Test_Summaries_0-11491.csv')\n",
        "df_t5_test=pd.read_csv('/content/drive/MyDrive/GP data/T5_SUMMARIES_[0-11490].csv', encoding='ISO-8859-1')"
      ],
      "metadata": {
        "id": "21b74kvlIqzU",
        "execution": {
          "iopub.status.busy": "2023-06-09T00:54:37.524621Z",
          "iopub.execute_input": "2023-06-09T00:54:37.525056Z",
          "iopub.status.idle": "2023-06-09T00:54:42.061833Z",
          "shell.execute_reply.started": "2023-06-09T00:54:37.525027Z",
          "shell.execute_reply": "2023-06-09T00:54:42.060569Z"
        },
        "trusted": true
      },
      "execution_count": null,
      "outputs": []
    },
    {
      "cell_type": "code",
      "source": [
        "import nltk\n",
        "import string\n",
        "\n",
        "# download stopwords if not already downloaded\n",
        "nltk.download('stopwords')\n",
        "nltk.download('punkt')\n",
        "\n",
        "# define function to clean text\n",
        "def clean_text(text):\n",
        "    # remove punctuation\n",
        "    text = text.translate(str.maketrans('', '', string.punctuation+ '.'))\n",
        "    # convert to lowercase\n",
        "    text = text.lower()\n",
        "    # tokenize text into words\n",
        "    words = nltk.word_tokenize(text)\n",
        "    # remove stopwords\n",
        "    stopwords = nltk.corpus.stopwords.words('english')\n",
        "    words = [word for word in words if word not in stopwords]\n",
        "    # join words back into a string\n",
        "    text = ' '.join(words)\n",
        "    return text"
      ],
      "metadata": {
        "colab": {
          "base_uri": "https://localhost:8080/"
        },
        "id": "sBvQCuo00ffR",
        "outputId": "bd265820-d905-4b68-a15f-71f74e251e91"
      },
      "execution_count": null,
      "outputs": [
        {
          "output_type": "stream",
          "name": "stderr",
          "text": [
            "[nltk_data] Downloading package stopwords to /root/nltk_data...\n",
            "[nltk_data]   Unzipping corpora/stopwords.zip.\n",
            "[nltk_data] Downloading package punkt to /root/nltk_data...\n",
            "[nltk_data]   Unzipping tokenizers/punkt.zip.\n"
          ]
        }
      ]
    },
    {
      "cell_type": "code",
      "source": [
        "# apply cleaning function to summary column\n",
        "df_pegasus_train['summary'] = df_pegasus_train['summary'].apply(clean_text)\n",
        "\n",
        "# apply cleaning function to highlights column\n",
        "df_pegasus_train['highlights'] = df_pegasus_train['highlights'].apply(clean_text)"
      ],
      "metadata": {
        "id": "7rf72rqf1Clk"
      },
      "execution_count": null,
      "outputs": []
    },
    {
      "cell_type": "code",
      "source": [
        "# apply cleaning function to summary column\n",
        "df_pegasus_test['summary'] = df_pegasus_test['summary'].apply(clean_text)\n",
        "\n",
        "# apply cleaning function to highlights column\n",
        "df_pegasus_test['highlights'] = df_pegasus_test['highlights'].apply(clean_text)"
      ],
      "metadata": {
        "id": "eVIO8nWX1DQe"
      },
      "execution_count": null,
      "outputs": []
    },
    {
      "cell_type": "code",
      "source": [
        "# apply cleaning function to summary column\n",
        "df_t5_test['summary'] = df_t5_test['summary'].apply(clean_text)\n",
        "\n",
        "# apply cleaning function to highlights column\n",
        "df_t5_test['highlights'] = df_t5_test['highlights'].apply(clean_text)"
      ],
      "metadata": {
        "id": "YJkkeEX01U23"
      },
      "execution_count": null,
      "outputs": []
    },
    {
      "cell_type": "code",
      "source": [
        "x_t5_train = []\n",
        "for i, summary in df_t5_train['summary'].items():\n",
        "    if isinstance(summary, str):\n",
        "        encoded_summary = T5_tokenizer.encode(summary, truncation=True, max_length=1024, padding='max_length', return_tensors='pt')\n",
        "        x_t5_train.append((i, encoded_summary.numpy().squeeze()))\n",
        "    else:\n",
        "        print(f\"Summary at index {i} is not a string: {summary}\")"
      ],
      "metadata": {
        "id": "1ilhVIhwE5Ob",
        "execution": {
          "iopub.status.busy": "2023-06-09T00:54:42.064045Z",
          "iopub.execute_input": "2023-06-09T00:54:42.065055Z",
          "iopub.status.idle": "2023-06-09T00:54:59.574172Z",
          "shell.execute_reply.started": "2023-06-09T00:54:42.064956Z",
          "shell.execute_reply": "2023-06-09T00:54:59.572775Z"
        },
        "trusted": true
      },
      "execution_count": null,
      "outputs": []
    },
    {
      "cell_type": "code",
      "source": [
        "x_pegasus_train = []\n",
        "for i, summary in df_pegasus_train['summary'].items():\n",
        "    encoded_summary=pegasus_tokenizer.encode(summary, truncation=True, max_length=1024, padding='max_length', return_tensors='pt')\n",
        "    x_pegasus_train.append((i, encoded_summary.numpy().squeeze()))"
      ],
      "metadata": {
        "id": "Uf7wRuCv6P_t",
        "execution": {
          "iopub.status.busy": "2023-06-09T00:55:16.468825Z",
          "iopub.execute_input": "2023-06-09T00:55:16.469881Z",
          "iopub.status.idle": "2023-06-09T00:55:34.404529Z",
          "shell.execute_reply.started": "2023-06-09T00:55:16.469844Z",
          "shell.execute_reply": "2023-06-09T00:55:34.402874Z"
        },
        "trusted": true
      },
      "execution_count": null,
      "outputs": []
    },
    {
      "cell_type": "code",
      "source": [
        "y_train = []\n",
        "for i, summary in df_pegasus_train['highlights'].items():\n",
        "    encoded_summary = pegasus_tokenizer.encode(summary, truncation=True, max_length=1024, padding='max_length', return_tensors='pt')\n",
        "    y_train.append((i, encoded_summary.numpy().squeeze()))"
      ],
      "metadata": {
        "id": "p0gN0Sqq6QCO",
        "execution": {
          "iopub.status.busy": "2023-06-09T00:55:34.408327Z",
          "iopub.execute_input": "2023-06-09T00:55:34.408766Z",
          "iopub.status.idle": "2023-06-09T00:55:54.520444Z",
          "shell.execute_reply.started": "2023-06-09T00:55:34.408734Z",
          "shell.execute_reply": "2023-06-09T00:55:54.518921Z"
        },
        "trusted": true
      },
      "execution_count": null,
      "outputs": []
    },
    {
      "cell_type": "code",
      "source": [
        "x_t5_test = []\n",
        "for i, summary in df_t5_test['summary'].items():\n",
        "    encoded_summary =  pegasus_tokenizer.encode(summary, truncation=True, max_length=1024, padding='max_length', return_tensors='pt')\n",
        "    x_t5_test.append((i, encoded_summary.numpy().squeeze()))"
      ],
      "metadata": {
        "id": "IhCC_h9jAj8S",
        "execution": {
          "iopub.status.busy": "2023-06-09T01:00:43.429287Z",
          "iopub.execute_input": "2023-06-09T01:00:43.429774Z",
          "iopub.status.idle": "2023-06-09T01:01:05.053821Z",
          "shell.execute_reply.started": "2023-06-09T01:00:43.429741Z",
          "shell.execute_reply": "2023-06-09T01:01:05.052579Z"
        },
        "trusted": true
      },
      "execution_count": null,
      "outputs": []
    },
    {
      "cell_type": "code",
      "source": [
        "x_pegasus_test = []\n",
        "for i, summary in df_pegasus_test['summary'].items():\n",
        "    encoded_summary = pegasus_tokenizer.encode(summary, truncation=True, max_length=1024, padding='max_length', return_tensors='pt')\n",
        "    x_pegasus_test.append((i, encoded_summary.numpy().squeeze()))"
      ],
      "metadata": {
        "id": "wWJwBP7ATbpW",
        "execution": {
          "iopub.status.busy": "2023-06-09T00:56:17.554153Z",
          "iopub.execute_input": "2023-06-09T00:56:17.555118Z",
          "iopub.status.idle": "2023-06-09T00:56:39.645784Z",
          "shell.execute_reply.started": "2023-06-09T00:56:17.555084Z",
          "shell.execute_reply": "2023-06-09T00:56:39.644272Z"
        },
        "trusted": true
      },
      "execution_count": null,
      "outputs": []
    },
    {
      "cell_type": "code",
      "source": [
        "y_test = []\n",
        "for i, summary in df_pegasus_test['highlights'].items():\n",
        "    encoded_summary = pegasus_tokenizer.encode(summary, truncation=True, max_length=1024, padding='max_length', return_tensors='pt')\n",
        "    y_test.append((i, encoded_summary.numpy().squeeze()))"
      ],
      "metadata": {
        "id": "kIsIT5eKTbr5",
        "execution": {
          "iopub.status.busy": "2023-06-09T00:56:39.647797Z",
          "iopub.execute_input": "2023-06-09T00:56:39.648254Z",
          "iopub.status.idle": "2023-06-09T00:57:01.382770Z",
          "shell.execute_reply.started": "2023-06-09T00:56:39.648219Z",
          "shell.execute_reply": "2023-06-09T00:57:01.381176Z"
        },
        "trusted": true
      },
      "execution_count": null,
      "outputs": []
    },
    {
      "cell_type": "code",
      "source": [
        "# Convert the input data to numpy arrays\n",
        "x_t5_train = np.array(x_t5_train)\n",
        "x_t5_test = np.array(x_t5_test)\n",
        "y_train = np.array(y_train)\n",
        "y_test = np.array(y_test)\n",
        "x_pegasus_train = np.array(x_pegasus_train)\n",
        "x_pegasus_test = np.array(x_pegasus_test)"
      ],
      "metadata": {
        "id": "oIwvIHGwoN27",
        "execution": {
          "iopub.status.busy": "2023-06-09T01:01:05.056653Z",
          "iopub.execute_input": "2023-06-09T01:01:05.057379Z",
          "iopub.status.idle": "2023-06-09T01:01:05.147699Z",
          "shell.execute_reply.started": "2023-06-09T01:01:05.057343Z",
          "shell.execute_reply": "2023-06-09T01:01:05.146134Z"
        },
        "trusted": true
      },
      "execution_count": null,
      "outputs": []
    },
    {
      "cell_type": "code",
      "source": [
        "x_t5_train_indices = np.array([t[0] for t in x_t5_train])\n",
        "x_t5_train_summaries = np.array([t[1] for t in x_t5_train])\n",
        "y_train_indices = np.array([t[0] for t in y_train])\n",
        "y_train_summaries = np.array([t[1] for t in y_train])\n",
        "x_pegasus_train_indices = np.array([t[0] for t in x_pegasus_train])\n",
        "x_pegasus_train_summaries = np.array([t[1] for t in x_pegasus_train])"
      ],
      "metadata": {
        "id": "P7hRNQhCo3_T",
        "execution": {
          "iopub.status.busy": "2023-06-09T01:01:10.483716Z",
          "iopub.execute_input": "2023-06-09T01:01:10.484157Z",
          "iopub.status.idle": "2023-06-09T01:01:10.774499Z",
          "shell.execute_reply.started": "2023-06-09T01:01:10.484125Z",
          "shell.execute_reply": "2023-06-09T01:01:10.773024Z"
        },
        "trusted": true
      },
      "execution_count": null,
      "outputs": []
    },
    {
      "cell_type": "code",
      "source": [
        "x_t5_test_indices = np.array([t[0] for t in x_t5_test])\n",
        "x_t5_test_summaries = np.array([t[1] for t in x_t5_test])\n",
        "y_test_indices = np.array([t[0] for t in y_test])\n",
        "y_test_summaries = np.array([t[1] for t in y_test])\n",
        "x_pegasus_test_indices = np.array([t[0] for t in x_pegasus_test])\n",
        "x_pegasus_test_summaries = np.array([t[1] for t in x_pegasus_test])"
      ],
      "metadata": {
        "id": "Cu-tIksNuXsR",
        "execution": {
          "iopub.status.busy": "2023-06-09T01:01:12.650516Z",
          "iopub.execute_input": "2023-06-09T01:01:12.650995Z",
          "iopub.status.idle": "2023-06-09T01:01:12.960265Z",
          "shell.execute_reply.started": "2023-06-09T01:01:12.650961Z",
          "shell.execute_reply": "2023-06-09T01:01:12.958977Z"
        },
        "trusted": true
      },
      "execution_count": null,
      "outputs": []
    },
    {
      "cell_type": "code",
      "source": [
        "# Stack the BART and Pegasus summaries\n",
        "predictions_train = np.column_stack((x_pegasus_train_summaries[0:11490], x_t5_train_summaries))\n",
        "predictions_test = np.column_stack((x_pegasus_test_summaries, x_t5_test_summaries[0:11489]))"
      ],
      "metadata": {
        "id": "f8VS3OYDJ80A",
        "execution": {
          "iopub.status.busy": "2023-06-09T01:01:16.973256Z",
          "iopub.execute_input": "2023-06-09T01:01:16.973751Z",
          "iopub.status.idle": "2023-06-09T01:01:17.300630Z",
          "shell.execute_reply.started": "2023-06-09T01:01:16.973716Z",
          "shell.execute_reply": "2023-06-09T01:01:17.299236Z"
        },
        "trusted": true
      },
      "execution_count": null,
      "outputs": []
    },
    {
      "cell_type": "code",
      "source": [
        "from sklearn.ensemble import RandomForestRegressor\n",
        "from sklearn.tree import DecisionTreeRegressor"
      ],
      "metadata": {
        "id": "yOhw48QmTbym",
        "execution": {
          "iopub.status.busy": "2023-06-09T01:01:18.799454Z",
          "iopub.execute_input": "2023-06-09T01:01:18.799917Z",
          "iopub.status.idle": "2023-06-09T01:01:19.159631Z",
          "shell.execute_reply.started": "2023-06-09T01:01:18.799882Z",
          "shell.execute_reply": "2023-06-09T01:01:19.158064Z"
        },
        "trusted": true
      },
      "execution_count": null,
      "outputs": []
    },
    {
      "cell_type": "code",
      "source": [
        "# Train a RandomForestRegressor on BART summaries\n",
        "rf_base = RandomForestRegressor(n_estimators=1)\n",
        "rf_base.fit(predictions_train, y_train_summaries[0:11490])"
      ],
      "metadata": {
        "colab": {
          "base_uri": "https://localhost:8080/",
          "height": 74
        },
        "id": "xVI5hFTjceRA",
        "outputId": "f3265a00-bd6e-4dd4-8311-d2f46fe239c4",
        "execution": {
          "iopub.status.busy": "2023-06-09T01:01:21.105663Z",
          "iopub.execute_input": "2023-06-09T01:01:21.106158Z",
          "iopub.status.idle": "2023-06-09T01:02:49.319987Z",
          "shell.execute_reply.started": "2023-06-09T01:01:21.106124Z",
          "shell.execute_reply": "2023-06-09T01:02:49.318428Z"
        },
        "trusted": true
      },
      "execution_count": null,
      "outputs": [
        {
          "output_type": "execute_result",
          "data": {
            "text/plain": [
              "RandomForestRegressor(n_estimators=1)"
            ],
            "text/html": [
              "<style>#sk-container-id-1 {color: black;background-color: white;}#sk-container-id-1 pre{padding: 0;}#sk-container-id-1 div.sk-toggleable {background-color: white;}#sk-container-id-1 label.sk-toggleable__label {cursor: pointer;display: block;width: 100%;margin-bottom: 0;padding: 0.3em;box-sizing: border-box;text-align: center;}#sk-container-id-1 label.sk-toggleable__label-arrow:before {content: \"▸\";float: left;margin-right: 0.25em;color: #696969;}#sk-container-id-1 label.sk-toggleable__label-arrow:hover:before {color: black;}#sk-container-id-1 div.sk-estimator:hover label.sk-toggleable__label-arrow:before {color: black;}#sk-container-id-1 div.sk-toggleable__content {max-height: 0;max-width: 0;overflow: hidden;text-align: left;background-color: #f0f8ff;}#sk-container-id-1 div.sk-toggleable__content pre {margin: 0.2em;color: black;border-radius: 0.25em;background-color: #f0f8ff;}#sk-container-id-1 input.sk-toggleable__control:checked~div.sk-toggleable__content {max-height: 200px;max-width: 100%;overflow: auto;}#sk-container-id-1 input.sk-toggleable__control:checked~label.sk-toggleable__label-arrow:before {content: \"▾\";}#sk-container-id-1 div.sk-estimator input.sk-toggleable__control:checked~label.sk-toggleable__label {background-color: #d4ebff;}#sk-container-id-1 div.sk-label input.sk-toggleable__control:checked~label.sk-toggleable__label {background-color: #d4ebff;}#sk-container-id-1 input.sk-hidden--visually {border: 0;clip: rect(1px 1px 1px 1px);clip: rect(1px, 1px, 1px, 1px);height: 1px;margin: -1px;overflow: hidden;padding: 0;position: absolute;width: 1px;}#sk-container-id-1 div.sk-estimator {font-family: monospace;background-color: #f0f8ff;border: 1px dotted black;border-radius: 0.25em;box-sizing: border-box;margin-bottom: 0.5em;}#sk-container-id-1 div.sk-estimator:hover {background-color: #d4ebff;}#sk-container-id-1 div.sk-parallel-item::after {content: \"\";width: 100%;border-bottom: 1px solid gray;flex-grow: 1;}#sk-container-id-1 div.sk-label:hover label.sk-toggleable__label {background-color: #d4ebff;}#sk-container-id-1 div.sk-serial::before {content: \"\";position: absolute;border-left: 1px solid gray;box-sizing: border-box;top: 0;bottom: 0;left: 50%;z-index: 0;}#sk-container-id-1 div.sk-serial {display: flex;flex-direction: column;align-items: center;background-color: white;padding-right: 0.2em;padding-left: 0.2em;position: relative;}#sk-container-id-1 div.sk-item {position: relative;z-index: 1;}#sk-container-id-1 div.sk-parallel {display: flex;align-items: stretch;justify-content: center;background-color: white;position: relative;}#sk-container-id-1 div.sk-item::before, #sk-container-id-1 div.sk-parallel-item::before {content: \"\";position: absolute;border-left: 1px solid gray;box-sizing: border-box;top: 0;bottom: 0;left: 50%;z-index: -1;}#sk-container-id-1 div.sk-parallel-item {display: flex;flex-direction: column;z-index: 1;position: relative;background-color: white;}#sk-container-id-1 div.sk-parallel-item:first-child::after {align-self: flex-end;width: 50%;}#sk-container-id-1 div.sk-parallel-item:last-child::after {align-self: flex-start;width: 50%;}#sk-container-id-1 div.sk-parallel-item:only-child::after {width: 0;}#sk-container-id-1 div.sk-dashed-wrapped {border: 1px dashed gray;margin: 0 0.4em 0.5em 0.4em;box-sizing: border-box;padding-bottom: 0.4em;background-color: white;}#sk-container-id-1 div.sk-label label {font-family: monospace;font-weight: bold;display: inline-block;line-height: 1.2em;}#sk-container-id-1 div.sk-label-container {text-align: center;}#sk-container-id-1 div.sk-container {/* jupyter's `normalize.less` sets `[hidden] { display: none; }` but bootstrap.min.css set `[hidden] { display: none !important; }` so we also need the `!important` here to be able to override the default hidden behavior on the sphinx rendered scikit-learn.org. See: https://github.com/scikit-learn/scikit-learn/issues/21755 */display: inline-block !important;position: relative;}#sk-container-id-1 div.sk-text-repr-fallback {display: none;}</style><div id=\"sk-container-id-1\" class=\"sk-top-container\"><div class=\"sk-text-repr-fallback\"><pre>RandomForestRegressor(n_estimators=1)</pre><b>In a Jupyter environment, please rerun this cell to show the HTML representation or trust the notebook. <br />On GitHub, the HTML representation is unable to render, please try loading this page with nbviewer.org.</b></div><div class=\"sk-container\" hidden><div class=\"sk-item\"><div class=\"sk-estimator sk-toggleable\"><input class=\"sk-toggleable__control sk-hidden--visually\" id=\"sk-estimator-id-1\" type=\"checkbox\" checked><label for=\"sk-estimator-id-1\" class=\"sk-toggleable__label sk-toggleable__label-arrow\">RandomForestRegressor</label><div class=\"sk-toggleable__content\"><pre>RandomForestRegressor(n_estimators=1)</pre></div></div></div></div></div>"
            ]
          },
          "metadata": {},
          "execution_count": 31
        }
      ]
    },
    {
      "cell_type": "code",
      "source": [
        "from sklearn.neighbors import KNeighborsRegressor\n",
        "from sklearn.neural_network import MLPRegressor\n",
        "from sklearn.linear_model import LinearRegression\n",
        "\n",
        "# Train a KNeighborsRegressor on Pegasus summaries\n",
        "mlp_base = MLPRegressor()\n",
        "mlp_base.fit(predictions_train, y_train_summaries[0:11490])"
      ],
      "metadata": {
        "colab": {
          "base_uri": "https://localhost:8080/",
          "height": 129
        },
        "id": "tgwNEYl_t0Dp",
        "outputId": "d2d9f8f7-f2bf-4d14-9b7c-31ed6aade26e",
        "execution": {
          "iopub.status.busy": "2023-06-09T01:06:39.672868Z",
          "iopub.execute_input": "2023-06-09T01:06:39.673279Z",
          "iopub.status.idle": "2023-06-09T01:11:59.957184Z",
          "shell.execute_reply.started": "2023-06-09T01:06:39.673251Z",
          "shell.execute_reply": "2023-06-09T01:11:59.955684Z"
        },
        "trusted": true
      },
      "execution_count": null,
      "outputs": [
        {
          "output_type": "stream",
          "name": "stderr",
          "text": [
            "/usr/local/lib/python3.10/dist-packages/sklearn/neural_network/_multilayer_perceptron.py:686: ConvergenceWarning: Stochastic Optimizer: Maximum iterations (200) reached and the optimization hasn't converged yet.\n",
            "  warnings.warn(\n"
          ]
        },
        {
          "output_type": "execute_result",
          "data": {
            "text/plain": [
              "MLPRegressor()"
            ],
            "text/html": [
              "<style>#sk-container-id-2 {color: black;background-color: white;}#sk-container-id-2 pre{padding: 0;}#sk-container-id-2 div.sk-toggleable {background-color: white;}#sk-container-id-2 label.sk-toggleable__label {cursor: pointer;display: block;width: 100%;margin-bottom: 0;padding: 0.3em;box-sizing: border-box;text-align: center;}#sk-container-id-2 label.sk-toggleable__label-arrow:before {content: \"▸\";float: left;margin-right: 0.25em;color: #696969;}#sk-container-id-2 label.sk-toggleable__label-arrow:hover:before {color: black;}#sk-container-id-2 div.sk-estimator:hover label.sk-toggleable__label-arrow:before {color: black;}#sk-container-id-2 div.sk-toggleable__content {max-height: 0;max-width: 0;overflow: hidden;text-align: left;background-color: #f0f8ff;}#sk-container-id-2 div.sk-toggleable__content pre {margin: 0.2em;color: black;border-radius: 0.25em;background-color: #f0f8ff;}#sk-container-id-2 input.sk-toggleable__control:checked~div.sk-toggleable__content {max-height: 200px;max-width: 100%;overflow: auto;}#sk-container-id-2 input.sk-toggleable__control:checked~label.sk-toggleable__label-arrow:before {content: \"▾\";}#sk-container-id-2 div.sk-estimator input.sk-toggleable__control:checked~label.sk-toggleable__label {background-color: #d4ebff;}#sk-container-id-2 div.sk-label input.sk-toggleable__control:checked~label.sk-toggleable__label {background-color: #d4ebff;}#sk-container-id-2 input.sk-hidden--visually {border: 0;clip: rect(1px 1px 1px 1px);clip: rect(1px, 1px, 1px, 1px);height: 1px;margin: -1px;overflow: hidden;padding: 0;position: absolute;width: 1px;}#sk-container-id-2 div.sk-estimator {font-family: monospace;background-color: #f0f8ff;border: 1px dotted black;border-radius: 0.25em;box-sizing: border-box;margin-bottom: 0.5em;}#sk-container-id-2 div.sk-estimator:hover {background-color: #d4ebff;}#sk-container-id-2 div.sk-parallel-item::after {content: \"\";width: 100%;border-bottom: 1px solid gray;flex-grow: 1;}#sk-container-id-2 div.sk-label:hover label.sk-toggleable__label {background-color: #d4ebff;}#sk-container-id-2 div.sk-serial::before {content: \"\";position: absolute;border-left: 1px solid gray;box-sizing: border-box;top: 0;bottom: 0;left: 50%;z-index: 0;}#sk-container-id-2 div.sk-serial {display: flex;flex-direction: column;align-items: center;background-color: white;padding-right: 0.2em;padding-left: 0.2em;position: relative;}#sk-container-id-2 div.sk-item {position: relative;z-index: 1;}#sk-container-id-2 div.sk-parallel {display: flex;align-items: stretch;justify-content: center;background-color: white;position: relative;}#sk-container-id-2 div.sk-item::before, #sk-container-id-2 div.sk-parallel-item::before {content: \"\";position: absolute;border-left: 1px solid gray;box-sizing: border-box;top: 0;bottom: 0;left: 50%;z-index: -1;}#sk-container-id-2 div.sk-parallel-item {display: flex;flex-direction: column;z-index: 1;position: relative;background-color: white;}#sk-container-id-2 div.sk-parallel-item:first-child::after {align-self: flex-end;width: 50%;}#sk-container-id-2 div.sk-parallel-item:last-child::after {align-self: flex-start;width: 50%;}#sk-container-id-2 div.sk-parallel-item:only-child::after {width: 0;}#sk-container-id-2 div.sk-dashed-wrapped {border: 1px dashed gray;margin: 0 0.4em 0.5em 0.4em;box-sizing: border-box;padding-bottom: 0.4em;background-color: white;}#sk-container-id-2 div.sk-label label {font-family: monospace;font-weight: bold;display: inline-block;line-height: 1.2em;}#sk-container-id-2 div.sk-label-container {text-align: center;}#sk-container-id-2 div.sk-container {/* jupyter's `normalize.less` sets `[hidden] { display: none; }` but bootstrap.min.css set `[hidden] { display: none !important; }` so we also need the `!important` here to be able to override the default hidden behavior on the sphinx rendered scikit-learn.org. See: https://github.com/scikit-learn/scikit-learn/issues/21755 */display: inline-block !important;position: relative;}#sk-container-id-2 div.sk-text-repr-fallback {display: none;}</style><div id=\"sk-container-id-2\" class=\"sk-top-container\"><div class=\"sk-text-repr-fallback\"><pre>MLPRegressor()</pre><b>In a Jupyter environment, please rerun this cell to show the HTML representation or trust the notebook. <br />On GitHub, the HTML representation is unable to render, please try loading this page with nbviewer.org.</b></div><div class=\"sk-container\" hidden><div class=\"sk-item\"><div class=\"sk-estimator sk-toggleable\"><input class=\"sk-toggleable__control sk-hidden--visually\" id=\"sk-estimator-id-2\" type=\"checkbox\" checked><label for=\"sk-estimator-id-2\" class=\"sk-toggleable__label sk-toggleable__label-arrow\">MLPRegressor</label><div class=\"sk-toggleable__content\"><pre>MLPRegressor()</pre></div></div></div></div></div>"
            ]
          },
          "metadata": {},
          "execution_count": 32
        }
      ]
    },
    {
      "cell_type": "code",
      "source": [
        "# Step 5: Create a new DataFrame to store the predictions\n",
        "predictions = pd.DataFrame({\"rf_preds\": rf_base.predict(predictions_test[0:5000]).ravel(), \"mlp_preds\": mlp_base.predict(predictions_test[0:5000]).ravel()})"
      ],
      "metadata": {
        "id": "qe0ypHFi99hJ",
        "execution": {
          "iopub.status.busy": "2023-06-09T01:11:59.960386Z",
          "iopub.execute_input": "2023-06-09T01:11:59.961633Z",
          "iopub.status.idle": "2023-06-09T01:12:00.866832Z",
          "shell.execute_reply.started": "2023-06-09T01:11:59.961578Z",
          "shell.execute_reply": "2023-06-09T01:12:00.865393Z"
        },
        "trusted": true
      },
      "execution_count": null,
      "outputs": []
    },
    {
      "cell_type": "code",
      "source": [
        "y_test_flat = y_test_summaries[0:5000].ravel()"
      ],
      "metadata": {
        "id": "4PxVzVhmPYBv",
        "execution": {
          "iopub.status.busy": "2023-06-09T01:12:00.878987Z",
          "iopub.execute_input": "2023-06-09T01:12:00.879744Z",
          "iopub.status.idle": "2023-06-09T01:12:00.890797Z",
          "shell.execute_reply.started": "2023-06-09T01:12:00.879711Z",
          "shell.execute_reply": "2023-06-09T01:12:00.889764Z"
        },
        "trusted": true
      },
      "execution_count": null,
      "outputs": []
    },
    {
      "cell_type": "code",
      "source": [
        "from sklearn.ensemble import GradientBoostingRegressor\n",
        "import numpy as np\n",
        "\n",
        "# Initialize base estimators\n",
        "estimators = [\n",
        "    ('rf',  RandomForestRegressor()),\n",
        "    ('mlp', MLPRegressor()),\n",
        "]\n",
        "\n",
        "\n",
        "# Initialize meta-model with base estimators\n",
        "meta_model =GradientBoostingRegressor(n_estimators=100)\n",
        "meta_model.fit(predictions, y_test_flat)"
      ],
      "metadata": {
        "id": "-WATdkSHt0NL",
        "colab": {
          "base_uri": "https://localhost:8080/",
          "height": 74
        },
        "outputId": "9e7cddb7-7be2-4bbe-b96f-c6fc7e84ea6f",
        "execution": {
          "iopub.status.busy": "2023-06-09T01:12:00.892349Z",
          "iopub.execute_input": "2023-06-09T01:12:00.893336Z",
          "iopub.status.idle": "2023-06-09T01:39:40.804845Z",
          "shell.execute_reply.started": "2023-06-09T01:12:00.893302Z",
          "shell.execute_reply": "2023-06-09T01:39:40.803188Z"
        },
        "trusted": true
      },
      "execution_count": null,
      "outputs": [
        {
          "output_type": "execute_result",
          "data": {
            "text/plain": [
              "GradientBoostingRegressor()"
            ],
            "text/html": [
              "<style>#sk-container-id-3 {color: black;background-color: white;}#sk-container-id-3 pre{padding: 0;}#sk-container-id-3 div.sk-toggleable {background-color: white;}#sk-container-id-3 label.sk-toggleable__label {cursor: pointer;display: block;width: 100%;margin-bottom: 0;padding: 0.3em;box-sizing: border-box;text-align: center;}#sk-container-id-3 label.sk-toggleable__label-arrow:before {content: \"▸\";float: left;margin-right: 0.25em;color: #696969;}#sk-container-id-3 label.sk-toggleable__label-arrow:hover:before {color: black;}#sk-container-id-3 div.sk-estimator:hover label.sk-toggleable__label-arrow:before {color: black;}#sk-container-id-3 div.sk-toggleable__content {max-height: 0;max-width: 0;overflow: hidden;text-align: left;background-color: #f0f8ff;}#sk-container-id-3 div.sk-toggleable__content pre {margin: 0.2em;color: black;border-radius: 0.25em;background-color: #f0f8ff;}#sk-container-id-3 input.sk-toggleable__control:checked~div.sk-toggleable__content {max-height: 200px;max-width: 100%;overflow: auto;}#sk-container-id-3 input.sk-toggleable__control:checked~label.sk-toggleable__label-arrow:before {content: \"▾\";}#sk-container-id-3 div.sk-estimator input.sk-toggleable__control:checked~label.sk-toggleable__label {background-color: #d4ebff;}#sk-container-id-3 div.sk-label input.sk-toggleable__control:checked~label.sk-toggleable__label {background-color: #d4ebff;}#sk-container-id-3 input.sk-hidden--visually {border: 0;clip: rect(1px 1px 1px 1px);clip: rect(1px, 1px, 1px, 1px);height: 1px;margin: -1px;overflow: hidden;padding: 0;position: absolute;width: 1px;}#sk-container-id-3 div.sk-estimator {font-family: monospace;background-color: #f0f8ff;border: 1px dotted black;border-radius: 0.25em;box-sizing: border-box;margin-bottom: 0.5em;}#sk-container-id-3 div.sk-estimator:hover {background-color: #d4ebff;}#sk-container-id-3 div.sk-parallel-item::after {content: \"\";width: 100%;border-bottom: 1px solid gray;flex-grow: 1;}#sk-container-id-3 div.sk-label:hover label.sk-toggleable__label {background-color: #d4ebff;}#sk-container-id-3 div.sk-serial::before {content: \"\";position: absolute;border-left: 1px solid gray;box-sizing: border-box;top: 0;bottom: 0;left: 50%;z-index: 0;}#sk-container-id-3 div.sk-serial {display: flex;flex-direction: column;align-items: center;background-color: white;padding-right: 0.2em;padding-left: 0.2em;position: relative;}#sk-container-id-3 div.sk-item {position: relative;z-index: 1;}#sk-container-id-3 div.sk-parallel {display: flex;align-items: stretch;justify-content: center;background-color: white;position: relative;}#sk-container-id-3 div.sk-item::before, #sk-container-id-3 div.sk-parallel-item::before {content: \"\";position: absolute;border-left: 1px solid gray;box-sizing: border-box;top: 0;bottom: 0;left: 50%;z-index: -1;}#sk-container-id-3 div.sk-parallel-item {display: flex;flex-direction: column;z-index: 1;position: relative;background-color: white;}#sk-container-id-3 div.sk-parallel-item:first-child::after {align-self: flex-end;width: 50%;}#sk-container-id-3 div.sk-parallel-item:last-child::after {align-self: flex-start;width: 50%;}#sk-container-id-3 div.sk-parallel-item:only-child::after {width: 0;}#sk-container-id-3 div.sk-dashed-wrapped {border: 1px dashed gray;margin: 0 0.4em 0.5em 0.4em;box-sizing: border-box;padding-bottom: 0.4em;background-color: white;}#sk-container-id-3 div.sk-label label {font-family: monospace;font-weight: bold;display: inline-block;line-height: 1.2em;}#sk-container-id-3 div.sk-label-container {text-align: center;}#sk-container-id-3 div.sk-container {/* jupyter's `normalize.less` sets `[hidden] { display: none; }` but bootstrap.min.css set `[hidden] { display: none !important; }` so we also need the `!important` here to be able to override the default hidden behavior on the sphinx rendered scikit-learn.org. See: https://github.com/scikit-learn/scikit-learn/issues/21755 */display: inline-block !important;position: relative;}#sk-container-id-3 div.sk-text-repr-fallback {display: none;}</style><div id=\"sk-container-id-3\" class=\"sk-top-container\"><div class=\"sk-text-repr-fallback\"><pre>GradientBoostingRegressor()</pre><b>In a Jupyter environment, please rerun this cell to show the HTML representation or trust the notebook. <br />On GitHub, the HTML representation is unable to render, please try loading this page with nbviewer.org.</b></div><div class=\"sk-container\" hidden><div class=\"sk-item\"><div class=\"sk-estimator sk-toggleable\"><input class=\"sk-toggleable__control sk-hidden--visually\" id=\"sk-estimator-id-3\" type=\"checkbox\" checked><label for=\"sk-estimator-id-3\" class=\"sk-toggleable__label sk-toggleable__label-arrow\">GradientBoostingRegressor</label><div class=\"sk-toggleable__content\"><pre>GradientBoostingRegressor()</pre></div></div></div></div></div>"
            ]
          },
          "metadata": {},
          "execution_count": 36
        }
      ]
    },
    {
      "cell_type": "code",
      "source": [
        "test_rf_preds=rf_base.predict(predictions_test[5000:]).ravel()\n",
        "test_mlp_preds=mlp_base.predict(predictions_test[5000:]).ravel()"
      ],
      "metadata": {
        "id": "BHqiDGpb1sX0"
      },
      "execution_count": null,
      "outputs": []
    },
    {
      "cell_type": "code",
      "source": [
        "# Step 5: Create a new DataFrame to store the predictions\n",
        "test_predictions = pd.DataFrame({\"rf_preds\": test_rf_preds, \"mlp_preds\":test_mlp_preds})"
      ],
      "metadata": {
        "id": "mqq5fWRit0QF",
        "execution": {
          "iopub.status.busy": "2023-06-09T01:43:22.369441Z",
          "iopub.execute_input": "2023-06-09T01:43:22.369967Z",
          "iopub.status.idle": "2023-06-09T01:43:30.859371Z",
          "shell.execute_reply.started": "2023-06-09T01:43:22.369936Z",
          "shell.execute_reply": "2023-06-09T01:43:30.857834Z"
        },
        "trusted": true
      },
      "execution_count": null,
      "outputs": []
    },
    {
      "cell_type": "code",
      "source": [
        "ensemble_preds = meta_model.predict(test_predictions)"
      ],
      "metadata": {
        "id": "xWEhftlp1qN-"
      },
      "execution_count": null,
      "outputs": []
    },
    {
      "cell_type": "code",
      "source": [
        "ensemble_preds = ensemble_preds.reshape((6489,-1))"
      ],
      "metadata": {
        "id": "rv7gRbSV4g3E",
        "execution": {
          "iopub.status.busy": "2023-06-09T01:43:30.862310Z",
          "iopub.execute_input": "2023-06-09T01:43:30.862875Z",
          "iopub.status.idle": "2023-06-09T01:43:30.869809Z",
          "shell.execute_reply.started": "2023-06-09T01:43:30.862831Z",
          "shell.execute_reply": "2023-06-09T01:43:30.868054Z"
        },
        "trusted": true
      },
      "execution_count": null,
      "outputs": []
    },
    {
      "cell_type": "code",
      "source": [
        "# set min and max values for token IDs based on tokenizer vocab size\n",
        "min_value = 0\n",
        "max_value = pegasus_tokenizer.vocab_size - 1\n",
        "\n",
        "# decode summaries from predicted token IDs\n",
        "ensemble_pred_text = []\n",
        "for i in range(len(ensemble_preds)):\n",
        "    summary_ids = ensemble_preds[i]\n",
        "    # clip token IDs to valid range\n",
        "    summary_ids = np.clip(summary_ids, min_value, max_value)\n",
        "    summary_ids = summary_ids.astype(int)\n",
        "    summary = pegasus_tokenizer.decode(summary_ids, skip_special_tokens=True, max_length=100)\n",
        "    ensemble_pred_text.append(summary)"
      ],
      "metadata": {
        "id": "rCZonakhvghL",
        "execution": {
          "iopub.status.busy": "2023-06-09T01:43:40.047099Z",
          "iopub.execute_input": "2023-06-09T01:43:40.047531Z",
          "iopub.status.idle": "2023-06-09T01:43:50.348142Z",
          "shell.execute_reply.started": "2023-06-09T01:43:40.047469Z",
          "shell.execute_reply": "2023-06-09T01:43:50.346709Z"
        },
        "trusted": true
      },
      "execution_count": null,
      "outputs": []
    },
    {
      "cell_type": "code",
      "source": [
        "y_test_text = []\n",
        "for i in range(len(y_test)):\n",
        "    encoded_summary = y_test[i][1]\n",
        "    decoded_summary = pegasus_tokenizer.decode(encoded_summary.squeeze(), skip_special_tokens=True,max_length=100)\n",
        "    y_test_text.append( decoded_summary)"
      ],
      "metadata": {
        "id": "XH4Hss1v6UPb",
        "execution": {
          "iopub.status.busy": "2023-06-09T01:43:50.359433Z",
          "iopub.execute_input": "2023-06-09T01:43:50.359872Z",
          "iopub.status.idle": "2023-06-09T01:43:53.422051Z",
          "shell.execute_reply.started": "2023-06-09T01:43:50.359837Z",
          "shell.execute_reply": "2023-06-09T01:43:53.420488Z"
        },
        "trusted": true
      },
      "execution_count": null,
      "outputs": []
    },
    {
      "cell_type": "code",
      "source": [
        "rouge = Rouge()\n",
        "scores = []\n",
        "for i in range(len(ensemble_pred_text)):\n",
        "    reference = str(y_test_text[i])\n",
        "    hypothesis = str(ensemble_pred_text[i])\n",
        "    if not reference:\n",
        "        score = {'rouge-1': {'f': 0, 'p': 0, 'r': 0}, 'rouge-l': {'f': 0, 'p': 0, 'r': 0}}\n",
        "    else:\n",
        "        score = rouge.get_scores(hypothesis, reference)\n",
        "    scores.append(score)"
      ],
      "metadata": {
        "id": "WYPIWyMfzSnH",
        "execution": {
          "iopub.status.busy": "2023-06-09T01:44:14.430125Z",
          "iopub.execute_input": "2023-06-09T01:44:14.430532Z",
          "iopub.status.idle": "2023-06-09T01:57:29.264888Z",
          "shell.execute_reply.started": "2023-06-09T01:44:14.430503Z",
          "shell.execute_reply": "2023-06-09T01:57:29.262255Z"
        },
        "trusted": true
      },
      "execution_count": null,
      "outputs": []
    },
    {
      "cell_type": "code",
      "source": [
        "# Get the three ROUGE scores for each summary and calculate the average\n",
        "rouge_1_scores = [score[0][\"rouge-1\"][\"f\"] for score in scores]\n",
        "rouge_l_scores = [score[0][\"rouge-l\"][\"f\"] for score in scores]\n",
        "average_rouge_1 = sum(rouge_1_scores) / (len(scores))\n",
        "average_rouge_L = sum(rouge_l_scores) / (len(scores))"
      ],
      "metadata": {
        "id": "0G0oslJkaEke",
        "execution": {
          "iopub.status.busy": "2023-06-09T02:06:45.591149Z",
          "iopub.execute_input": "2023-06-09T02:06:45.594347Z",
          "iopub.status.idle": "2023-06-09T02:06:45.707209Z",
          "shell.execute_reply.started": "2023-06-09T02:06:45.594248Z",
          "shell.execute_reply": "2023-06-09T02:06:45.703914Z"
        },
        "trusted": true
      },
      "execution_count": null,
      "outputs": []
    },
    {
      "cell_type": "code",
      "source": [
        "# Save the ROUGE scores to a CSV file\n",
        "rouge_scores_df = pd.DataFrame({\n",
        "    \"rouge-1\": rouge_1_scores,\n",
        "    \"rouge-l\": rouge_l_scores,\n",
        "    \"Average-1\": average_rouge_1,\n",
        "    \"Average-L\": average_rouge_L,\n",
        "})\n",
        "rouge_scores_df.to_csv(\"T5&Peg_Gradient_Rouge_Scores.csv\", index=False)"
      ],
      "metadata": {
        "id": "YBgi00z6aEnJ",
        "execution": {
          "iopub.status.busy": "2023-06-09T02:06:50.790845Z",
          "iopub.execute_input": "2023-06-09T02:06:50.791520Z",
          "iopub.status.idle": "2023-06-09T02:06:50.993896Z",
          "shell.execute_reply.started": "2023-06-09T02:06:50.791433Z",
          "shell.execute_reply": "2023-06-09T02:06:50.991290Z"
        },
        "trusted": true
      },
      "execution_count": null,
      "outputs": []
    },
    {
      "cell_type": "code",
      "source": [],
      "metadata": {
        "id": "IkstfbenyHav"
      },
      "execution_count": null,
      "outputs": []
    },
    {
      "cell_type": "code",
      "source": [],
      "metadata": {
        "id": "bCBfYfmhyHch"
      },
      "execution_count": null,
      "outputs": []
    }
  ]
}